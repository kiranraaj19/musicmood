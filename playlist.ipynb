{
 "cells": [
  {
   "cell_type": "code",
   "execution_count": 14,
   "metadata": {},
   "outputs": [],
   "source": [
    "from  helpers import *\n",
    "import spotipy\n",
    "from spotipy import SpotifyClientCredentials, util\n",
    "import pandas as pd"
   ]
  },
  {
   "cell_type": "code",
   "execution_count": 15,
   "metadata": {
    "tags": []
   },
   "outputs": [],
   "source": [
    "client_id='4a2890513191470ead277d219b0384dc'\n",
    "client_secret='3938071298ac41148160e3d579c5f6e0'\n",
    "redirect_uri='http://localhost:2000/'\n",
    "\n",
    "username = '31r7q5st5vvuskd6prbvmipcmj64'\n",
    "scope_playlist = 'playlist-modify-public'\n",
    "scope_user = 'user-library-modify'\n",
    "scope_playing = 'user-read-currently-playing'\n",
    "\n",
    "#Credentials to access the Spotify Music Data\n",
    "manager = SpotifyClientCredentials(client_id,client_secret)\n",
    "sp = spotipy.Spotify(client_credentials_manager=manager)\n",
    "\n",
    "#Credentials to access the actual song played\n",
    "token_actual = util.prompt_for_user_token(username,scope_playing,client_id,client_secret,redirect_uri) \n",
    "sp_actual = spotipy.Spotify(auth=token_actual)\n",
    "\n",
    "#Credentiasl to access the library music \n",
    "token_user= util.prompt_for_user_token(username,scope_user,client_id,client_secret,redirect_uri) \n",
    "sp_user = spotipy.Spotify(auth=token_user)\n",
    "\n",
    "#Credentials to access the Playlists Music\n",
    "token_playlist= util.prompt_for_user_token(username,scope_playlist,client_id,client_secret,redirect_uri) \n",
    "sp_playlist = spotipy.Spotify(auth=token_playlist)\n"
   ]
  },
  {
   "cell_type": "code",
   "execution_count": 16,
   "metadata": {},
   "outputs": [],
   "source": [
    "cluster_0 = pd.read_csv(\"data/cluster0.csv\")\n",
    "cluster_1 = pd.read_csv(\"data/cluster1.csv\")\n",
    "ids_0 = cluster_0['id'].tolist()\n",
    "ids_1 = cluster_1['id'].tolist()"
   ]
  },
  {
   "cell_type": "code",
   "execution_count": 17,
   "metadata": {
    "tags": []
   },
   "outputs": [],
   "source": [
    "radiohead_energy = sp_playlist.user_playlist_create(username,\"Radiohead :)\")\n",
    "# radiohead_relaxed = sp_playlist.user_playlist_create(username,\"Radiohead :(\")\n"
   ]
  },
  {
   "cell_type": "code",
   "execution_count": 19,
   "metadata": {
    "scrolled": true
   },
   "outputs": [
    {
     "name": "stdout",
     "output_type": "stream",
     "text": [
      "0.3499460220336914\n"
     ]
    }
   ],
   "source": [
    "# Multithreaded Process\n",
    "\n",
    "import re\n",
    "import threading # For creating n threads for n different categories\n",
    "import time # for measuring elapsed time for the function\n",
    "\n",
    "start = time.time()\n",
    "\n",
    "# Extracting playlists ID to add tracks using regex\n",
    "playlist_id_0 = re.findall(\"playlist\\/.*\", radiohead_energy['external_urls']['spotify'])[0][9:]\n",
    "playlist_id_1 = re.findall(\"playlist\\/.*\", radiohead_relaxed['external_urls']['spotify'])[0][9:]\n",
    "\n",
    "\n",
    "def add_items(playlist_id, id_number):\n",
    "        sp_playlist.playlist_add_items(playlist_id,id_number)\n",
    "\n",
    "# Added items from energized category and relaxed category using threading\n",
    "t1 = threading.Thread(target=add_items, args=(playlist_id_0,ids_0,))\n",
    "t2 = threading.Thread(target=add_items, args=(playlist_id_0,ids_1,))\n",
    "\n",
    "\n",
    "t1.start()\n",
    "t2.start()\n",
    "\n",
    "t1.join()\n",
    "t2.join()\n",
    "\n",
    "end = time.time()\n",
    "print(end-start)"
   ]
  },
  {
   "cell_type": "code",
   "execution_count": 20,
   "metadata": {},
   "outputs": [
    {
     "name": "stdout",
     "output_type": "stream",
     "text": [
      "0.679955244064331\n"
     ]
    }
   ],
   "source": [
    "# Single Threaded Process\n",
    "\n",
    "import re\n",
    "import threading # For creating n threads for n different categories\n",
    "import time # for measuring elapsed time for the function\n",
    "\n",
    "start = time.time()\n",
    "\n",
    "# Extracting playlists ID to add tracks using regex\n",
    "playlist_id_0 = re.findall(\"playlist\\/.*\", radiohead_energy['external_urls']['spotify'])[0][9:]\n",
    "playlist_id_1 = re.findall(\"playlist\\/.*\", radiohead_relaxed['external_urls']['spotify'])[0][9:]\n",
    "\n",
    "sp_playlist.playlist_add_items(playlist_id_0,ids_0)\n",
    "sp_playlist.playlist_add_items(playlist_id_0,ids_1)\n",
    "\n",
    "\n",
    "end = time.time()\n",
    "print(end-start)"
   ]
  },
  {
   "cell_type": "code",
   "execution_count": null,
   "metadata": {},
   "outputs": [],
   "source": []
  }
 ],
 "metadata": {
  "kernelspec": {
   "display_name": "Python 3 (ipykernel)",
   "language": "python",
   "name": "python3"
  },
  "language_info": {
   "codemirror_mode": {
    "name": "ipython",
    "version": 3
   },
   "file_extension": ".py",
   "mimetype": "text/x-python",
   "name": "python",
   "nbconvert_exporter": "python",
   "pygments_lexer": "ipython3",
   "version": "3.10.8"
  }
 },
 "nbformat": 4,
 "nbformat_minor": 2
}
